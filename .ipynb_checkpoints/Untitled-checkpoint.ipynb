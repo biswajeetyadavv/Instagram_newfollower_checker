{
 "cells": [
  {
   "cell_type": "code",
   "execution_count": 1,
   "id": "e385c075-4369-4c44-a4cc-e6803a139ec9",
   "metadata": {},
   "outputs": [
    {
     "name": "stdout",
     "output_type": "stream",
     "text": [
      "biswaj\n"
     ]
    }
   ],
   "source": [
    "print(\"biswaj\")"
   ]
  },
  {
   "cell_type": "code",
   "execution_count": null,
   "id": "3a769c07-006b-4e9b-a76d-1c06c45c45e8",
   "metadata": {},
   "outputs": [],
   "source": []
  }
 ],
 "metadata": {
  "kernelspec": {
   "display_name": "Python 3 (ipykernel)",
   "language": "python",
   "name": "python3"
  },
  "language_info": {
   "codemirror_mode": {
    "name": "ipython",
    "version": 3
   },
   "file_extension": ".py",
   "mimetype": "text/x-python",
   "name": "python",
   "nbconvert_exporter": "python",
   "pygments_lexer": "ipython3",
   "version": "3.12.3"
  }
 },
 "nbformat": 4,
 "nbformat_minor": 5
}
